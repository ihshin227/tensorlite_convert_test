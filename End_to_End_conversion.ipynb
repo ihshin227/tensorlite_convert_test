{
  "nbformat": 4,
  "nbformat_minor": 0,
  "metadata": {
    "colab": {
      "name": "End-to-End conversion",
      "provenance": [],
      "collapsed_sections": [],
      "machine_shape": "hm",
      "authorship_tag": "ABX9TyNZyM5eg8c8bac0rK6afk6M",
      "include_colab_link": true
    },
    "kernelspec": {
      "name": "python3",
      "display_name": "Python 3"
    },
    "accelerator": "GPU"
  },
  "cells": [
    {
      "cell_type": "markdown",
      "metadata": {
        "id": "view-in-github",
        "colab_type": "text"
      },
      "source": [
        "<a href=\"https://colab.research.google.com/github/ihshin227/tensorlite_convert_test/blob/master/End_to_End_conversion.ipynb\" target=\"_parent\"><img src=\"https://colab.research.google.com/assets/colab-badge.svg\" alt=\"Open In Colab\"/></a>"
      ]
    },
    {
      "cell_type": "code",
      "metadata": {
        "id": "xk7Fm23UxDs0",
        "colab_type": "code",
        "colab": {}
      },
      "source": [
        "import numpy as np\n",
        "import tensorflow as tf\n",
        "import pathlib"
      ],
      "execution_count": 0,
      "outputs": []
    },
    {
      "cell_type": "code",
      "metadata": {
        "id": "9Vij-Nrl3toZ",
        "colab_type": "code",
        "outputId": "7e420c2f-6cfe-4d88-e39e-2855a3557ab5",
        "colab": {
          "base_uri": "https://localhost:8080/",
          "height": 88
        }
      },
      "source": [
        "model = tf.keras.applications.MobileNetV2(weights='imagenet', input_shape=(224, 224, 3))\n",
        "\n",
        "converter = tf.lite.TFLiteConverter.from_keras_model(model)\n",
        "tflite_model = converter.convert()\n",
        "\n",
        "tflite_mobilenet_dir = pathlib.Path('./MobileNetV2')\n",
        "tflite_mobilenet_dir.mkdir(exist_ok=True, parents=True)\n",
        "\n",
        "tflite_model_file = tflite_mobilenet_dir/'mobilenet_v2.tflite'\n",
        "tflite_model_file.write_bytes(tflite_model)\n",
        "\n",
        "converter.optimizations = [tf.lite.Optimize.DEFAULT]\n",
        "tflite_quant_int8_model = converter.convert()\n",
        "\n",
        "tflite_model_quant_int8_file = tflite_mobilenet_dir/'mobilenet_v2_quant_int8.tflite'\n",
        "tflite_model_quant_int8_file.write_bytes(tflite_quant_int8_model)\n",
        "\n",
        "converter.optimizations = [tf.lite.Optimize.DEFAULT]\n",
        "converter.target_spec.supported_types = [tf.float16]\n",
        "tflite_quant_fp16_model = converter.convert()\n",
        "\n",
        "tflite_model_quant_fp16_file = tflite_mobilenet_dir/'mobilenet_v2_quant_fp16.tflite'\n",
        "tflite_model_quant_fp16_file.write_bytes(tflite_quant_fp16_model)\n"
      ],
      "execution_count": 0,
      "outputs": [
        {
          "output_type": "stream",
          "text": [
            "Downloading data from https://storage.googleapis.com/tensorflow/keras-applications/mobilenet_v2/mobilenet_v2_weights_tf_dim_ordering_tf_kernels_1.0_224.h5\n",
            "14540800/14536120 [==============================] - 1s 0us/step\n"
          ],
          "name": "stdout"
        },
        {
          "output_type": "execute_result",
          "data": {
            "text/plain": [
              "7007432"
            ]
          },
          "metadata": {
            "tags": []
          },
          "execution_count": 2
        }
      ]
    },
    {
      "cell_type": "code",
      "metadata": {
        "id": "jVStp3OxEUmo",
        "colab_type": "code",
        "outputId": "49957519-48e8-4299-bd19-76e66baf80dc",
        "colab": {
          "base_uri": "https://localhost:8080/",
          "height": 34
        }
      },
      "source": [
        "random_data = np.array(np.random.random_sample((1, 224, 224, 3)), dtype=np.float32)\n",
        "data = tf.cast(random_data, tf.float32) / 255.0\n",
        "ds = tf.data.Dataset.from_tensor_slices((data)).batch(1)\n",
        "\n",
        "def representative_data_gen():\n",
        "  for input_value in ds.take(1):\n",
        "    yield [input_value]\n",
        "\n",
        "converter = tf.lite.TFLiteConverter.from_keras_model(model)\n",
        "converter.representative_dataset = representative_data_gen\n",
        "converter.target_spec.supported_ops = [tf.lite.OpsSet.TFLITE_BUILTINS_INT8]\n",
        "converter.inference_input_type = tf.uint8\n",
        "converter.inference_output_type = tf.uint8\n",
        "\n",
        "tflite_quant_act_io_model = converter.convert()\n",
        "\n",
        "tflite_model_quant_act_io_file = tflite_mobilenet_dir/'mobilenet_v2_quant_act_io.tflite'\n",
        "tflite_model_quant_act_io_file.write_bytes(tflite_quant_act_io_model)"
      ],
      "execution_count": 0,
      "outputs": [
        {
          "output_type": "execute_result",
          "data": {
            "text/plain": [
              "4116928"
            ]
          },
          "metadata": {
            "tags": []
          },
          "execution_count": 5
        }
      ]
    },
    {
      "cell_type": "code",
      "metadata": {
        "id": "maRQCBuHG_Z5",
        "colab_type": "code",
        "outputId": "5b20ec8e-6bba-4053-c47e-32e3d61e6d91",
        "colab": {
          "base_uri": "https://localhost:8080/",
          "height": 85
        }
      },
      "source": [
        "!ls -lh {tflite_mobilenet_dir}"
      ],
      "execution_count": 0,
      "outputs": [
        {
          "output_type": "stream",
          "text": [
            "total 24M\n",
            "-rw-r--r-- 1 root root 6.7M May  6 03:51 mobilenet_v2_quant_fp16.tflite\n",
            "-rw-r--r-- 1 root root 3.5M May  6 03:51 mobilenet_v2_quant_int8.tflite\n",
            "-rw-r--r-- 1 root root  14M May  6 03:51 mobilenet_v2.tflite\n"
          ],
          "name": "stdout"
        }
      ]
    },
    {
      "cell_type": "code",
      "metadata": {
        "id": "NkiTg8B8HQbJ",
        "colab_type": "code",
        "outputId": "b35d420d-5fb9-4365-f89b-e79e511da659",
        "colab": {
          "base_uri": "https://localhost:8080/",
          "height": 68
        }
      },
      "source": [
        "model = tf.keras.applications.InceptionV3(weights='imagenet', input_shape=(299, 299, 3))\n",
        "\n",
        "converter = tf.lite.TFLiteConverter.from_keras_model(model)\n",
        "tflite_model = converter.convert()\n",
        "\n",
        "tflite_inception_dir = pathlib.Path('./InceptionV3')\n",
        "tflite_inception_dir.mkdir(exist_ok=True, parents=True)\n",
        "\n",
        "tflite_model_file = tflite_inception_dir/'inception_v3.tflite'\n",
        "tflite_model_file.write_bytes(tflite_model)\n",
        "\n",
        "converter.optimizations = [tf.lite.Optimize.DEFAULT]\n",
        "tflite_quant_int8_model = converter.convert()\n",
        "\n",
        "tflite_model_quant_int8_file = tflite_inception_dir/'inception_v3_quant_int8.tflite'\n",
        "tflite_model_quant_int8_file.write_bytes(tflite_quant_int8_model)\n",
        "\n",
        "converter.optimizations = [tf.lite.Optimize.DEFAULT]\n",
        "converter.target_spec.supported_types = [tf.float16]\n",
        "tflite_quant_fp16_model = converter.convert()\n",
        "\n",
        "tflite_model_quant_fp16_file = tflite_inception_dir/'inception_v3_quant_fp16.tflite'\n",
        "tflite_model_quant_fp16_file.write_bytes(tflite_quant_fp16_model)"
      ],
      "execution_count": 0,
      "outputs": [
        {
          "output_type": "stream",
          "text": [
            "Downloading data from https://storage.googleapis.com/tensorflow/keras-applications/inception_v3/inception_v3_weights_tf_dim_ordering_tf_kernels.h5\n",
            "96116736/96112376 [==============================] - 1s 0us/step\n"
          ],
          "name": "stdout"
        },
        {
          "output_type": "execute_result",
          "data": {
            "text/plain": [
              "47687012"
            ]
          },
          "metadata": {
            "tags": []
          },
          "execution_count": 11
        }
      ]
    },
    {
      "cell_type": "code",
      "metadata": {
        "id": "5ZvFcrmJH4-A",
        "colab_type": "code",
        "outputId": "238da86e-eb6a-41ad-f700-ccc0de13bf55",
        "colab": {
          "base_uri": "https://localhost:8080/",
          "height": 85
        }
      },
      "source": [
        "!ls -lh {tflite_inception_dir}"
      ],
      "execution_count": 0,
      "outputs": [
        {
          "output_type": "stream",
          "text": [
            "total 160M\n",
            "-rw-r--r-- 1 root root 46M May  6 03:58 inception_v3_quant_fp16.tflite\n",
            "-rw-r--r-- 1 root root 23M May  6 03:58 inception_v3_quant_int8.tflite\n",
            "-rw-r--r-- 1 root root 91M May  6 03:58 inception_v3.tflite\n"
          ],
          "name": "stdout"
        }
      ]
    },
    {
      "cell_type": "code",
      "metadata": {
        "id": "fT-cWpnbIvmE",
        "colab_type": "code",
        "outputId": "d51e061c-73ab-468d-f656-586b74f87569",
        "colab": {
          "base_uri": "https://localhost:8080/",
          "height": 68
        }
      },
      "source": [
        "model = tf.keras.applications.NASNetLarge(input_shape=(331, 331, 3), weights='imagenet')\n",
        "\n",
        "converter = tf.lite.TFLiteConverter.from_keras_model(model)\n",
        "tflite_model = converter.convert()\n",
        "\n",
        "tflite_nasnetlarge_dir = pathlib.Path('./NASNetLarge')\n",
        "tflite_nasnetlarge_dir.mkdir(exist_ok=True, parents=True)\n",
        "\n",
        "tflite_model_file = tflite_nasnetlarge_dir/'nasnet.tflite'\n",
        "tflite_model_file.write_bytes(tflite_model)\n",
        "\n",
        "converter.optimizations = [tf.lite.Optimize.DEFAULT]\n",
        "tflite_quant_int8_model = converter.convert()\n",
        "\n",
        "tflite_model_quant_int8_file = tflite_nasnetlarge_dir/'nasnet_quant_int8.tflite'\n",
        "tflite_model_quant_int8_file.write_bytes(tflite_quant_int8_model)\n",
        "\n",
        "converter.optimizations = [tf.lite.Optimize.DEFAULT]\n",
        "converter.target_spec.supported_types = [tf.float16]\n",
        "tflite_quant_fp16_model = converter.convert()\n",
        "\n",
        "tflite_model_quant_fp16_file = tflite_nasnetlarge_dir/'nasnet_quant_fp16.tflite'\n",
        "tflite_model_quant_fp16_file.write_bytes(tflite_quant_fp16_model)"
      ],
      "execution_count": 0,
      "outputs": [
        {
          "output_type": "stream",
          "text": [
            "Downloading data from https://storage.googleapis.com/tensorflow/keras-applications/nasnet/NASNet-large.h5\n",
            "359751680/359748576 [==============================] - 4s 0us/step\n"
          ],
          "name": "stdout"
        },
        {
          "output_type": "execute_result",
          "data": {
            "text/plain": [
              "177605628"
            ]
          },
          "metadata": {
            "tags": []
          },
          "execution_count": 14
        }
      ]
    },
    {
      "cell_type": "code",
      "metadata": {
        "id": "QX-G-lFwKeE9",
        "colab_type": "code",
        "outputId": "3b820448-06ed-444b-f0ff-35d401344adf",
        "colab": {
          "base_uri": "https://localhost:8080/",
          "height": 85
        }
      },
      "source": [
        "!ls -lh {tflite_nasnetlarge_dir}"
      ],
      "execution_count": 0,
      "outputs": [
        {
          "output_type": "stream",
          "text": [
            "total 593M\n",
            "-rw-r--r-- 1 root root 170M May  6 04:08 nasnet_quant_fp16.tflite\n",
            "-rw-r--r-- 1 root root  86M May  6 04:08 nasnet_quant_int8.tflite\n",
            "-rw-r--r-- 1 root root 339M May  6 04:07 nasnet.tflite\n"
          ],
          "name": "stdout"
        }
      ]
    },
    {
      "cell_type": "code",
      "metadata": {
        "id": "__ZbQ-zmLm4d",
        "colab_type": "code",
        "outputId": "fe9dfdaa-51b1-4ffc-e9ea-1429c84e21dc",
        "colab": {
          "base_uri": "https://localhost:8080/",
          "height": 68
        }
      },
      "source": [
        "model = tf.keras.applications.NASNetMobile(input_shape=(224, 224, 3), weights='imagenet')\n",
        "\n",
        "converter = tf.lite.TFLiteConverter.from_keras_model(model)\n",
        "tflite_model = converter.convert()\n",
        "\n",
        "tflite_nasnetmobile_dir = pathlib.Path('./NASNetMobile')\n",
        "tflite_nasnetmobile_dir.mkdir(exist_ok=True, parents=True)\n",
        "\n",
        "tflite_model_file = tflite_nasnetmobile_dir/'nasnet.tflite'\n",
        "tflite_model_file.write_bytes(tflite_model)resnet101\n",
        "\n",
        "converter.optimizations = [tf.lite.Optimize.DEFAULT]\n",
        "tflite_quant_int8_model = converter.convert()\n",
        "\n",
        "tflite_model_quant_int8_file = tflite_nasnetmobile_dir/'nasnet_quant_int8.tflite'\n",
        "tflite_model_quant_int8_file.write_bytes(tflite_quant_int8_model)\n",
        "\n",
        "converter.optimizations = [tf.lite.Optimize.DEFAULT]\n",
        "converter.target_spec.supported_types = [tf.float16]\n",
        "tflite_quant_fp16_model = converter.convert()\n",
        "\n",
        "tflite_model_quant_fp16_file = tflite_nasnetmobile_dir/'nasnet_quant_fp16.tflite'\n",
        "tflite_model_quant_fp16_file.write_bytes(tflite_quant_fp16_model)"
      ],
      "execution_count": 0,
      "outputs": [
        {
          "output_type": "stream",
          "text": [
            "Downloading data from https://storage.googleapis.com/tensorflow/keras-applications/nasnet/NASNet-mobile.h5\n",
            "24231936/24227760 [==============================] - 0s 0us/step\n"
          ],
          "name": "stdout"
        },
        {
          "output_type": "execute_result",
          "data": {
            "text/plain": [
              "10760304"
            ]
          },
          "metadata": {
            "tags": []
          },
          "execution_count": 16
        }
      ]
    },
    {
      "cell_type": "code",
      "metadata": {
        "id": "8ylej9M1MER0",
        "colab_type": "code",
        "outputId": "bb489bee-5580-4592-97d4-129453aaa5bc",
        "colab": {
          "base_uri": "https://localhost:8080/",
          "height": 85
        }
      },
      "source": [
        "!ls -lh {tflite_nasnetmobile_dir}"
      ],
      "execution_count": 0,
      "outputs": [
        {
          "output_type": "stream",
          "text": [
            "total 36M\n",
            "-rw-r--r-- 1 root root  11M May  6 04:14 nasnet_quant_fp16.tflite\n",
            "-rw-r--r-- 1 root root 5.4M May  6 04:14 nasnet_quant_int8.tflite\n",
            "-rw-r--r-- 1 root root  21M May  6 04:13 nasnet.tflite\n"
          ],
          "name": "stdout"
        }
      ]
    },
    {
      "cell_type": "code",
      "metadata": {
        "id": "QGXPSYAyMQcU",
        "colab_type": "code",
        "outputId": "771306ba-fa9c-449b-f1bc-c5641ede684f",
        "colab": {
          "base_uri": "https://localhost:8080/",
          "height": 68
        }
      },
      "source": [
        "model = tf.keras.applications.ResNet101(weights='imagenet', input_shape=(224, 224, 3))\n",
        "\n",
        "converter = tf.lite.TFLiteConverter.from_keras_model(model)\n",
        "tflite_model = converter.convert()\n",
        "\n",
        "tflite_resnet101_dir = pathlib.Path('./ResNet101')\n",
        "tflite_resnet101_dir.mkdir(exist_ok=True, parents=True)\n",
        "\n",
        "tflite_model_file = tflite_resnet101_dir/'resnet101.tflite'\n",
        "tflite_model_file.write_bytes(tflite_model)\n",
        "\n",
        "converter.optimizations = [tf.lite.Optimize.DEFAULT]\n",
        "tflite_quant_int8_model = converter.convert()\n",
        "\n",
        "tflite_model_quant_int8_file = tflite_resnet101_dir/'resnet101_quant_int8.tflite'\n",
        "tflite_model_quant_int8_file.write_bytes(tflite_quant_int8_model)\n",
        "\n",
        "converter.optimizations = [tf.lite.Optimize.DEFAULT]\n",
        "converter.target_spec.supported_types = [tf.float16]\n",
        "tflite_quant_fp16_model = converter.convert()\n",
        "\n",
        "tflite_model_quant_fp16_file = tflite_resnet101_dir/'resnet101_quant_fp16.tflite'\n",
        "tflite_model_quant_fp16_file.write_bytes(tflite_quant_fp16_model)"
      ],
      "execution_count": 0,
      "outputs": [
        {
          "output_type": "stream",
          "text": [
            "Downloading data from https://storage.googleapis.com/tensorflow/keras-applications/resnet/resnet101_weights_tf_dim_ordering_tf_kernels.h5\n",
            "179650560/179648224 [==============================] - 1s 0us/step\n"
          ],
          "name": "stdout"
        },
        {
          "output_type": "execute_result",
          "data": {
            "text/plain": [
              "89051724"
            ]
          },
          "metadata": {
            "tags": []
          },
          "execution_count": 18
        }
      ]
    },
    {
      "cell_type": "code",
      "metadata": {
        "id": "s195ZOKDM7OU",
        "colab_type": "code",
        "outputId": "4106fb2e-385f-478e-eaf5-eb1e68ae5f1c",
        "colab": {
          "base_uri": "https://localhost:8080/",
          "height": 85
        }
      },
      "source": [
        "!ls -lh {tflite_resnet101_dir}"
      ],
      "execution_count": 0,
      "outputs": [
        {
          "output_type": "stream",
          "text": [
            "total 298M\n",
            "-rw-r--r-- 1 root root  85M May  6 04:18 resnet101_quant_fp16.tflite\n",
            "-rw-r--r-- 1 root root  43M May  6 04:17 resnet101_quant_int8.tflite\n",
            "-rw-r--r-- 1 root root 170M May  6 04:17 resnet101.tflite\n"
          ],
          "name": "stdout"
        }
      ]
    },
    {
      "cell_type": "code",
      "metadata": {
        "id": "qk_Jt4OpNJcn",
        "colab_type": "code",
        "outputId": "489db199-1f1a-4b0e-cb50-e86b8081fe4e",
        "colab": {
          "base_uri": "https://localhost:8080/",
          "height": 68
        }
      },
      "source": [
        "model = tf.keras.applications.ResNet50(weights='imagenet', input_shape=(224, 224, 3))\n",
        "\n",
        "converter = tf.lite.TFLiteConverter.from_keras_model(model)\n",
        "tflite_model = converter.convert()\n",
        "\n",
        "tflite_resnet50_dir = pathlib.Path('./ResNet50')\n",
        "tflite_resnet50_dir.mkdir(exist_ok=True, parents=True)\n",
        "\n",
        "tflite_model_file = tflite_resnet50_dir/'resnet50.tflite'\n",
        "tflite_model_file.write_bytes(tflite_model)\n",
        "\n",
        "converter.optimizations = [tf.lite.Optimize.DEFAULT]\n",
        "tflite_quant_int8_model = converter.convert()\n",
        "\n",
        "tflite_model_quant_int8_file = tflite_resnet50_dir/'resnet50_quant_int8.tflite'\n",
        "tflite_model_quant_int8_file.write_bytes(tflite_quant_int8_model)\n",
        "\n",
        "converter.optimizations = [tf.lite.Optimize.DEFAULT]\n",
        "converter.target_spec.supported_types = [tf.float16]\n",
        "tflite_quant_fp16_model = converter.convert()\n",
        "\n",
        "tflite_model_quant_fp16_file = tflite_resnet50_dir/'resnet50_quant_fp16.tflite'\n",
        "tflite_model_quant_fp16_file.write_bytes(tflite_quant_fp16_model)"
      ],
      "execution_count": 0,
      "outputs": [
        {
          "output_type": "stream",
          "text": [
            "Downloading data from https://storage.googleapis.com/tensorflow/keras-applications/resnet/resnet50_weights_tf_dim_ordering_tf_kernels.h5\n",
            "102973440/102967424 [==============================] - 1s 0us/step\n"
          ],
          "name": "stdout"
        },
        {
          "output_type": "execute_result",
          "data": {
            "text/plain": [
              "51091832"
            ]
          },
          "metadata": {
            "tags": []
          },
          "execution_count": 20
        }
      ]
    },
    {
      "cell_type": "code",
      "metadata": {
        "id": "XbKfHCgGNa4a",
        "colab_type": "code",
        "outputId": "7f1d2150-c932-4fdf-d9c2-6626a18c8a92",
        "colab": {
          "base_uri": "https://localhost:8080/",
          "height": 85
        }
      },
      "source": [
        "!ls -lh {tflite_resnet50_dir}"
      ],
      "execution_count": 0,
      "outputs": [
        {
          "output_type": "stream",
          "text": [
            "total 171M\n",
            "-rw-r--r-- 1 root root 49M May  6 04:19 resnet50_quant_fp16.tflite\n",
            "-rw-r--r-- 1 root root 25M May  6 04:19 resnet50_quant_int8.tflite\n",
            "-rw-r--r-- 1 root root 98M May  6 04:19 resnet50.tflite\n"
          ],
          "name": "stdout"
        }
      ]
    },
    {
      "cell_type": "code",
      "metadata": {
        "id": "_AnUiwPDNkQ_",
        "colab_type": "code",
        "outputId": "7c71a6d5-ba54-4f3e-b7c4-d0c8e723c1f7",
        "colab": {
          "base_uri": "https://localhost:8080/",
          "height": 867
        }
      },
      "source": [
        "from google.colab import files\n",
        "\n",
        "files.download('./InceptionV3/inception_v3.tflite')\n",
        "files.download('./InceptionV3/inception_v3_quant_int8.tflite')\n",
        "files.download('./InceptionV3/inception_v3_quant_fp16.tflite')\n",
        "\n",
        "files.download('./MobileNetV2/mobilenet_v2.tflite')\n",
        "files.download('./MobileNetV2/mobilenet_v2_quant_int8.tflite')\n",
        "files.download('./MobileNetV2/mobilenet_v2_quant_fp16.tflite')\n",
        "\n",
        "files.download('./NASNetLarge/nasnet.tflite')\n",
        "files.download('./NASNetLarge/nasnet_quant_int8.tflite')\n",
        "files.download('./NASNetLarge/nasnet_quant_fp16.tflite')"
      ],
      "execution_count": 0,
      "outputs": [
        {
          "output_type": "stream",
          "text": [
            "----------------------------------------\n",
            "Exception happened during processing of request from ('::ffff:127.0.0.1', 51514, 0, 0)\n",
            "Traceback (most recent call last):\n",
            "  File \"/usr/lib/python3.6/socketserver.py\", line 320, in _handle_request_noblock\n",
            "    self.process_request(request, client_address)\n",
            "  File \"/usr/lib/python3.6/socketserver.py\", line 351, in process_request\n",
            "    self.finish_request(request, client_address)\n",
            "  File \"/usr/lib/python3.6/socketserver.py\", line 364, in finish_request\n",
            "    self.RequestHandlerClass(request, client_address, self)\n",
            "  File \"/usr/lib/python3.6/socketserver.py\", line 724, in __init__\n",
            "    self.handle()\n",
            "  File \"/usr/lib/python3.6/http/server.py\", line 418, in handle\n",
            "    self.handle_one_request()\n",
            "  File \"/usr/lib/python3.6/http/server.py\", line 406, in handle_one_request\n",
            "    method()\n",
            "  File \"/usr/lib/python3.6/http/server.py\", line 639, in do_GET\n",
            "    self.copyfile(f, self.wfile)\n",
            "  File \"/usr/lib/python3.6/http/server.py\", line 800, in copyfile\n",
            "    shutil.copyfileobj(source, outputfile)\n",
            "  File \"/usr/lib/python3.6/shutil.py\", line 82, in copyfileobj\n",
            "    fdst.write(buf)\n",
            "  File \"/usr/lib/python3.6/socketserver.py\", line 803, in write\n",
            "    self._sock.sendall(b)\n",
            "ConnectionResetError: [Errno 104] Connection reset by peer\n",
            "----------------------------------------\n",
            "----------------------------------------\n",
            "Exception happened during processing of request from ('::ffff:127.0.0.1', 53790, 0, 0)\n",
            "Traceback (most recent call last):\n",
            "  File \"/usr/lib/python3.6/socketserver.py\", line 320, in _handle_request_noblock\n",
            "    self.process_request(request, client_address)\n",
            "  File \"/usr/lib/python3.6/socketserver.py\", line 351, in process_request\n",
            "    self.finish_request(request, client_address)\n",
            "  File \"/usr/lib/python3.6/socketserver.py\", line 364, in finish_request\n",
            "    self.RequestHandlerClass(request, client_address, self)\n",
            "  File \"/usr/lib/python3.6/socketserver.py\", line 724, in __init__\n",
            "    self.handle()\n",
            "  File \"/usr/lib/python3.6/http/server.py\", line 418, in handle\n",
            "    self.handle_one_request()\n",
            "  File \"/usr/lib/python3.6/http/server.py\", line 406, in handle_one_request\n",
            "    method()\n",
            "  File \"/usr/lib/python3.6/http/server.py\", line 639, in do_GET\n",
            "    self.copyfile(f, self.wfile)\n",
            "  File \"/usr/lib/python3.6/http/server.py\", line 800, in copyfile\n",
            "    shutil.copyfileobj(source, outputfile)\n",
            "  File \"/usr/lib/python3.6/shutil.py\", line 82, in copyfileobj\n",
            "    fdst.write(buf)\n",
            "  File \"/usr/lib/python3.6/socketserver.py\", line 803, in write\n",
            "    self._sock.sendall(b)\n",
            "ConnectionResetError: [Errno 104] Connection reset by peer\n",
            "----------------------------------------\n"
          ],
          "name": "stderr"
        }
      ]
    },
    {
      "cell_type": "code",
      "metadata": {
        "id": "6NO-9XcpPisc",
        "colab_type": "code",
        "outputId": "87437b4c-8035-41a0-fa2f-b6064920c667",
        "colab": {
          "base_uri": "https://localhost:8080/",
          "height": 442
        }
      },
      "source": [
        "files.download('./NASNetMobile/nasnet.tflite')\n",
        "files.download('./NASNetMobile/nasnet_quant_int8.tflite')\n",
        "files.download('./NASNetMobile/nasnet_quant_fp16.tflite')\n",
        "\n",
        "files.download('./ResNet101/resnet101.tflite')\n",
        "files.download('./ResNet101/resnet101_quant_int8.tflite')\n",
        "files.download('./ResNet101/resnet101_quant_fp16.tflite')\n",
        "\n",
        "files.download('./ResNet50/resnet50.tflite')\n",
        "files.download('./ResNet50/resnet50_quant_int8.tflite')\n",
        "files.download('./ResNet50/resnet50_quant_fp16.tflite')"
      ],
      "execution_count": 0,
      "outputs": [
        {
          "output_type": "stream",
          "text": [
            "----------------------------------------\n",
            "Exception happened during processing of request from ('::ffff:127.0.0.1', 50134, 0, 0)\n",
            "Traceback (most recent call last):\n",
            "  File \"/usr/lib/python3.6/socketserver.py\", line 320, in _handle_request_noblock\n",
            "    self.process_request(request, client_address)\n",
            "  File \"/usr/lib/python3.6/socketserver.py\", line 351, in process_request\n",
            "    self.finish_request(request, client_address)\n",
            "  File \"/usr/lib/python3.6/socketserver.py\", line 364, in finish_request\n",
            "    self.RequestHandlerClass(request, client_address, self)\n",
            "  File \"/usr/lib/python3.6/socketserver.py\", line 724, in __init__\n",
            "    self.handle()\n",
            "  File \"/usr/lib/python3.6/http/server.py\", line 418, in handle\n",
            "    self.handle_one_request()\n",
            "  File \"/usr/lib/python3.6/http/server.py\", line 406, in handle_one_request\n",
            "    method()\n",
            "  File \"/usr/lib/python3.6/http/server.py\", line 639, in do_GET\n",
            "    self.copyfile(f, self.wfile)\n",
            "  File \"/usr/lib/python3.6/http/server.py\", line 800, in copyfile\n",
            "    shutil.copyfileobj(source, outputfile)\n",
            "  File \"/usr/lib/python3.6/shutil.py\", line 82, in copyfileobj\n",
            "    fdst.write(buf)\n",
            "  File \"/usr/lib/python3.6/socketserver.py\", line 803, in write\n",
            "    self._sock.sendall(b)\n",
            "ConnectionResetError: [Errno 104] Connection reset by peer\n",
            "----------------------------------------\n"
          ],
          "name": "stderr"
        }
      ]
    },
    {
      "cell_type": "code",
      "metadata": {
        "id": "rlLMwYwdT1qd",
        "colab_type": "code",
        "colab": {}
      },
      "source": [
        ""
      ],
      "execution_count": 0,
      "outputs": []
    }
  ]
}