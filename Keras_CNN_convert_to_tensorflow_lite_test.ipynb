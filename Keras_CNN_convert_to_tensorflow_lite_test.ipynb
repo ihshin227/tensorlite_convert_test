{
  "nbformat": 4,
  "nbformat_minor": 0,
  "metadata": {
    "colab": {
      "name": "Keras CNN convert to tensorflow lite test.ipynb",
      "provenance": [],
      "collapsed_sections": [],
      "authorship_tag": "ABX9TyM/R8/9v/8QqZlra9ua/Fye",
      "include_colab_link": true
    },
    "kernelspec": {
      "name": "python3",
      "display_name": "Python 3"
    },
    "accelerator": "GPU"
  },
  "cells": [
    {
      "cell_type": "markdown",
      "metadata": {
        "id": "view-in-github",
        "colab_type": "text"
      },
      "source": [
        "<a href=\"https://colab.research.google.com/github/ihshin227/tensorlite_convert_test/blob/master/Keras_CNN_convert_to_tensorflow_lite_test.ipynb\" target=\"_parent\"><img src=\"https://colab.research.google.com/assets/colab-badge.svg\" alt=\"Open In Colab\"/></a>"
      ]
    },
    {
      "cell_type": "code",
      "metadata": {
        "id": "R0rLG-PUiD9K",
        "colab_type": "code",
        "outputId": "49d4c97a-2bff-484f-aae4-a255e39d507e",
        "colab": {
          "base_uri": "https://localhost:8080/",
          "height": 884
        }
      },
      "source": [
        "import tensorflow as tf\n",
        "from tensorflow.keras.datasets import mnist\n",
        "from tensorflow.keras.layers import Dense, Flatten, Conv2D\n",
        "from tensorflow.keras.losses import sparse_categorical_crossentropy\n",
        "from tensorflow.keras.models import Sequential\n",
        "from tensorflow.keras.optimizers import Adam\n",
        "\n",
        "# Model configuration\n",
        "batch_size = 150\n",
        "img_width, img_height = 28, 28\n",
        "loss_function = sparse_categorical_crossentropy\n",
        "no_classes = 10\n",
        "no_epochs = 25\n",
        "optimizer = Adam()\n",
        "validation_split = 0.2\n",
        "verbosity = 1\n",
        "\n",
        "# Load MNIST dataset\n",
        "(input_train, target_train), (input_test, target_test) = mnist.load_data()\n",
        "\n",
        "# Reshape data    \n",
        "input_train = input_train.reshape((input_train.shape[0], img_width, img_height, 1))\n",
        "input_test = input_test.reshape((input_test.shape[0], img_width, img_height, 1))\n",
        "input_shape = (img_width, img_height, 1)\n",
        "\n",
        "# Cast input to float32\n",
        "input_train = input_train.astype('float32')\n",
        "input_test = input_test.astype('float32')\n",
        "\n",
        "# Normalize data\n",
        "input_train = input_train / 255\n",
        "input_test = input_test / 255\n",
        "\n",
        "# Create the model\n",
        "model = Sequential()\n",
        "model.add(Conv2D(32, kernel_size=(3, 3), activation='relu', input_shape=input_shape))\n",
        "model.add(Conv2D(64, kernel_size=(3, 3), activation='relu'))\n",
        "model.add(Conv2D(128, kernel_size=(3, 3), activation='relu'))\n",
        "model.add(Flatten())\n",
        "model.add(Dense(256, activation='relu'))\n",
        "model.add(Dense(no_classes, activation='softmax'))\n",
        "\n",
        "# Compile the model\n",
        "model.compile(loss=loss_function,\n",
        "              optimizer=optimizer,\n",
        "              metrics=['accuracy'])\n",
        "\n",
        "# Train the model\n",
        "model.fit(input_train, target_train,\n",
        "            batch_size=batch_size,\n",
        "            epochs=no_epochs,\n",
        "            verbose=verbosity,\n",
        "            validation_split=validation_split)\n"
      ],
      "execution_count": 6,
      "outputs": [
        {
          "output_type": "stream",
          "text": [
            "Epoch 1/25\n",
            "320/320 [==============================] - 5s 16ms/step - loss: 0.1362 - accuracy: 0.9587 - val_loss: 0.0562 - val_accuracy: 0.9838\n",
            "Epoch 2/25\n",
            "320/320 [==============================] - 5s 16ms/step - loss: 0.0362 - accuracy: 0.9885 - val_loss: 0.0427 - val_accuracy: 0.9874\n",
            "Epoch 3/25\n",
            "320/320 [==============================] - 5s 16ms/step - loss: 0.0188 - accuracy: 0.9934 - val_loss: 0.0558 - val_accuracy: 0.9860\n",
            "Epoch 4/25\n",
            "320/320 [==============================] - 5s 16ms/step - loss: 0.0131 - accuracy: 0.9958 - val_loss: 0.0474 - val_accuracy: 0.9882\n",
            "Epoch 5/25\n",
            "320/320 [==============================] - 5s 16ms/step - loss: 0.0080 - accuracy: 0.9974 - val_loss: 0.0659 - val_accuracy: 0.9840\n",
            "Epoch 6/25\n",
            "320/320 [==============================] - 5s 16ms/step - loss: 0.0080 - accuracy: 0.9972 - val_loss: 0.0547 - val_accuracy: 0.9887\n",
            "Epoch 7/25\n",
            "320/320 [==============================] - 5s 16ms/step - loss: 0.0061 - accuracy: 0.9981 - val_loss: 0.0477 - val_accuracy: 0.9903\n",
            "Epoch 8/25\n",
            "320/320 [==============================] - 5s 16ms/step - loss: 0.0042 - accuracy: 0.9986 - val_loss: 0.0729 - val_accuracy: 0.9857\n",
            "Epoch 9/25\n",
            "320/320 [==============================] - 5s 16ms/step - loss: 0.0073 - accuracy: 0.9975 - val_loss: 0.0518 - val_accuracy: 0.9889\n",
            "Epoch 10/25\n",
            "320/320 [==============================] - 5s 16ms/step - loss: 0.0048 - accuracy: 0.9985 - val_loss: 0.0513 - val_accuracy: 0.9896\n",
            "Epoch 11/25\n",
            "320/320 [==============================] - 5s 16ms/step - loss: 0.0042 - accuracy: 0.9985 - val_loss: 0.0544 - val_accuracy: 0.9897\n",
            "Epoch 12/25\n",
            "320/320 [==============================] - 5s 16ms/step - loss: 0.0029 - accuracy: 0.9992 - val_loss: 0.0603 - val_accuracy: 0.9884\n",
            "Epoch 13/25\n",
            "320/320 [==============================] - 5s 16ms/step - loss: 0.0029 - accuracy: 0.9991 - val_loss: 0.0689 - val_accuracy: 0.9879\n",
            "Epoch 14/25\n",
            "320/320 [==============================] - 5s 16ms/step - loss: 0.0021 - accuracy: 0.9994 - val_loss: 0.0911 - val_accuracy: 0.9841\n",
            "Epoch 15/25\n",
            "320/320 [==============================] - 5s 16ms/step - loss: 0.0064 - accuracy: 0.9980 - val_loss: 0.0678 - val_accuracy: 0.9877\n",
            "Epoch 16/25\n",
            "320/320 [==============================] - 5s 16ms/step - loss: 0.0038 - accuracy: 0.9986 - val_loss: 0.0604 - val_accuracy: 0.9897\n",
            "Epoch 17/25\n",
            "320/320 [==============================] - 5s 16ms/step - loss: 0.0043 - accuracy: 0.9985 - val_loss: 0.0642 - val_accuracy: 0.9893\n",
            "Epoch 18/25\n",
            "320/320 [==============================] - 5s 16ms/step - loss: 9.1908e-04 - accuracy: 0.9998 - val_loss: 0.0617 - val_accuracy: 0.9904\n",
            "Epoch 19/25\n",
            "320/320 [==============================] - 5s 16ms/step - loss: 2.4138e-04 - accuracy: 0.9999 - val_loss: 0.0691 - val_accuracy: 0.9899\n",
            "Epoch 20/25\n",
            "320/320 [==============================] - 5s 16ms/step - loss: 2.0987e-04 - accuracy: 0.9999 - val_loss: 0.0720 - val_accuracy: 0.9901\n",
            "Epoch 21/25\n",
            "320/320 [==============================] - 5s 16ms/step - loss: 0.0032 - accuracy: 0.9991 - val_loss: 0.0794 - val_accuracy: 0.9879\n",
            "Epoch 22/25\n",
            "320/320 [==============================] - 5s 16ms/step - loss: 0.0052 - accuracy: 0.9985 - val_loss: 0.0826 - val_accuracy: 0.9847\n",
            "Epoch 23/25\n",
            "320/320 [==============================] - 5s 16ms/step - loss: 0.0027 - accuracy: 0.9990 - val_loss: 0.0917 - val_accuracy: 0.9874\n",
            "Epoch 24/25\n",
            "320/320 [==============================] - 5s 16ms/step - loss: 0.0034 - accuracy: 0.9989 - val_loss: 0.0683 - val_accuracy: 0.9891\n",
            "Epoch 25/25\n",
            "320/320 [==============================] - 5s 16ms/step - loss: 7.3106e-04 - accuracy: 0.9998 - val_loss: 0.0723 - val_accuracy: 0.9892\n"
          ],
          "name": "stdout"
        },
        {
          "output_type": "execute_result",
          "data": {
            "text/plain": [
              "<tensorflow.python.keras.callbacks.History at 0x7f5024314080>"
            ]
          },
          "metadata": {
            "tags": []
          },
          "execution_count": 6
        }
      ]
    },
    {
      "cell_type": "code",
      "metadata": {
        "id": "k8NLCxo_iILF",
        "colab_type": "code",
        "outputId": "bcc163c8-0daf-4b4f-a2b9-d78628ab1af4",
        "colab": {
          "base_uri": "https://localhost:8080/",
          "height": 51
        }
      },
      "source": [
        "from tensorflow.keras.models import Sequential, save_model\n",
        "\n",
        "# Save the model\n",
        "filepath = './saved_model'\n",
        "save_model(model, filepath)\n"
      ],
      "execution_count": 7,
      "outputs": [
        {
          "output_type": "stream",
          "text": [
            "INFO:tensorflow:Assets written to: ./saved_model/assets\n"
          ],
          "name": "stdout"
        },
        {
          "output_type": "stream",
          "text": [
            "INFO:tensorflow:Assets written to: ./saved_model/assets\n"
          ],
          "name": "stderr"
        }
      ]
    },
    {
      "cell_type": "code",
      "metadata": {
        "id": "2z2xSJ3Ei6Ar",
        "colab_type": "code",
        "colab": {}
      },
      "source": [
        "converter = tf.lite.TFLiteConverter.from_saved_model(filepath)"
      ],
      "execution_count": 0,
      "outputs": []
    },
    {
      "cell_type": "code",
      "metadata": {
        "id": "1Pqxe9iQlU3y",
        "colab_type": "code",
        "colab": {}
      },
      "source": [
        "tflite_model = converter.convert()"
      ],
      "execution_count": 0,
      "outputs": []
    },
    {
      "cell_type": "code",
      "metadata": {
        "id": "pvMlIJMZmMl9",
        "colab_type": "code",
        "colab": {}
      },
      "source": [
        "import numpy as np\n",
        "\n",
        "interpreter = tf.lite.Interpreter(model_content=tflite_model)\n",
        "interpreter.allocate_tensors()\n",
        "\n",
        "input_details = interpreter.get_input_details()\n",
        "output_details = interpreter.get_output_details()\n",
        "\n",
        "input_shape = input_details[0]['shape']\n",
        "input_data = np.array(np.random.random_sample(input_shape), dtype=np.float32)\n",
        "interpreter.set_tensor(input_details[0]['index'], input_data)\n",
        "\n",
        "interpreter.invoke()\n",
        "\n",
        "tflite_results = interpreter.get_tensor(output_details[0]['index'])\n",
        "tf_results = model(tf.constant(input_data))"
      ],
      "execution_count": 0,
      "outputs": []
    },
    {
      "cell_type": "code",
      "metadata": {
        "id": "aZN9br_LmXel",
        "colab_type": "code",
        "colab": {}
      },
      "source": [
        ""
      ],
      "execution_count": 0,
      "outputs": []
    }
  ]
}